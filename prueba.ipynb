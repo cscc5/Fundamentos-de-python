{
 "cells": [
  {
   "attachments": {},
   "cell_type": "markdown",
   "metadata": {},
   "source": [
    "Por favor corre las siguientes lineas para validar que tienes todo lo necesario para comenzar la guia; si tienes problemas te dejaré posibles soluciones al final del libro.\n"
   ]
  },
  {
   "cell_type": "code",
   "execution_count": 1,
   "metadata": {},
   "outputs": [
    {
     "name": "stdout",
     "output_type": "stream",
     "text": [
      "Hola mundo!!\n"
     ]
    }
   ],
   "source": [
    "print(\"Hola mundo!!\")"
   ]
  },
  {
   "cell_type": "code",
   "execution_count": 2,
   "metadata": {},
   "outputs": [],
   "source": [
    "import sklearn"
   ]
  },
  {
   "cell_type": "code",
   "execution_count": 3,
   "metadata": {},
   "outputs": [],
   "source": [
    "from sklearn.datasets import load_iris\n",
    "import pandas as pd"
   ]
  },
  {
   "cell_type": "code",
   "execution_count": 4,
   "metadata": {},
   "outputs": [],
   "source": [
    "iriss = load_iris()\n",
    "df_iris = pd.DataFrame(iriss.data, columns=iriss.feature_names)"
   ]
  },
  {
   "cell_type": "code",
   "execution_count": 5,
   "metadata": {},
   "outputs": [
    {
     "data": {
      "text/html": [
       "<div>\n",
       "<style scoped>\n",
       "    .dataframe tbody tr th:only-of-type {\n",
       "        vertical-align: middle;\n",
       "    }\n",
       "\n",
       "    .dataframe tbody tr th {\n",
       "        vertical-align: top;\n",
       "    }\n",
       "\n",
       "    .dataframe thead th {\n",
       "        text-align: right;\n",
       "    }\n",
       "</style>\n",
       "<table border=\"1\" class=\"dataframe\">\n",
       "  <thead>\n",
       "    <tr style=\"text-align: right;\">\n",
       "      <th></th>\n",
       "      <th>sepal length (cm)</th>\n",
       "      <th>sepal width (cm)</th>\n",
       "      <th>petal length (cm)</th>\n",
       "      <th>petal width (cm)</th>\n",
       "    </tr>\n",
       "  </thead>\n",
       "  <tbody>\n",
       "    <tr>\n",
       "      <th>0</th>\n",
       "      <td>5.1</td>\n",
       "      <td>3.5</td>\n",
       "      <td>1.4</td>\n",
       "      <td>0.2</td>\n",
       "    </tr>\n",
       "    <tr>\n",
       "      <th>1</th>\n",
       "      <td>4.9</td>\n",
       "      <td>3.0</td>\n",
       "      <td>1.4</td>\n",
       "      <td>0.2</td>\n",
       "    </tr>\n",
       "    <tr>\n",
       "      <th>2</th>\n",
       "      <td>4.7</td>\n",
       "      <td>3.2</td>\n",
       "      <td>1.3</td>\n",
       "      <td>0.2</td>\n",
       "    </tr>\n",
       "    <tr>\n",
       "      <th>3</th>\n",
       "      <td>4.6</td>\n",
       "      <td>3.1</td>\n",
       "      <td>1.5</td>\n",
       "      <td>0.2</td>\n",
       "    </tr>\n",
       "    <tr>\n",
       "      <th>4</th>\n",
       "      <td>5.0</td>\n",
       "      <td>3.6</td>\n",
       "      <td>1.4</td>\n",
       "      <td>0.2</td>\n",
       "    </tr>\n",
       "    <tr>\n",
       "      <th>...</th>\n",
       "      <td>...</td>\n",
       "      <td>...</td>\n",
       "      <td>...</td>\n",
       "      <td>...</td>\n",
       "    </tr>\n",
       "    <tr>\n",
       "      <th>145</th>\n",
       "      <td>6.7</td>\n",
       "      <td>3.0</td>\n",
       "      <td>5.2</td>\n",
       "      <td>2.3</td>\n",
       "    </tr>\n",
       "    <tr>\n",
       "      <th>146</th>\n",
       "      <td>6.3</td>\n",
       "      <td>2.5</td>\n",
       "      <td>5.0</td>\n",
       "      <td>1.9</td>\n",
       "    </tr>\n",
       "    <tr>\n",
       "      <th>147</th>\n",
       "      <td>6.5</td>\n",
       "      <td>3.0</td>\n",
       "      <td>5.2</td>\n",
       "      <td>2.0</td>\n",
       "    </tr>\n",
       "    <tr>\n",
       "      <th>148</th>\n",
       "      <td>6.2</td>\n",
       "      <td>3.4</td>\n",
       "      <td>5.4</td>\n",
       "      <td>2.3</td>\n",
       "    </tr>\n",
       "    <tr>\n",
       "      <th>149</th>\n",
       "      <td>5.9</td>\n",
       "      <td>3.0</td>\n",
       "      <td>5.1</td>\n",
       "      <td>1.8</td>\n",
       "    </tr>\n",
       "  </tbody>\n",
       "</table>\n",
       "<p>150 rows × 4 columns</p>\n",
       "</div>"
      ],
      "text/plain": [
       "     sepal length (cm)  sepal width (cm)  petal length (cm)  petal width (cm)\n",
       "0                  5.1               3.5                1.4               0.2\n",
       "1                  4.9               3.0                1.4               0.2\n",
       "2                  4.7               3.2                1.3               0.2\n",
       "3                  4.6               3.1                1.5               0.2\n",
       "4                  5.0               3.6                1.4               0.2\n",
       "..                 ...               ...                ...               ...\n",
       "145                6.7               3.0                5.2               2.3\n",
       "146                6.3               2.5                5.0               1.9\n",
       "147                6.5               3.0                5.2               2.0\n",
       "148                6.2               3.4                5.4               2.3\n",
       "149                5.9               3.0                5.1               1.8\n",
       "\n",
       "[150 rows x 4 columns]"
      ]
     },
     "execution_count": 5,
     "metadata": {},
     "output_type": "execute_result"
    }
   ],
   "source": [
    "df_iris"
   ]
  },
  {
   "attachments": {},
   "cell_type": "markdown",
   "metadata": {},
   "source": [
    "### **Correción de errores:**\n",
    "Si te lanza error significa que debes completar las instalaciones del pip3, kernel, librerias y/o Jupyter.\n",
    "\n",
    "##### **Validaciones:**\n",
    "Primero vamos a validar que es lo que te falta, validando las versiones del kernel, python, librerias y jupyter; dentro de la terminal vamos a validar cada una de ellas.\n",
    "\n",
    "**1.  Version de python:** python3 --version. \n",
    "\n",
    "**2.  Versión de pip:** pip3 --version.\n",
    "\n",
    "**3.  Version de pandas:** pip3 show pandas\n",
    "\n",
    "**4.  Version del kernel for jupyter:** pip3 show ipykernel.\n",
    "\n",
    "**5.  Version de scikit-learn:** pip3 show scikit-learn.\n",
    "\n",
    "En windows cambia solo un poco los siguientes: \n",
    "**1.  Version de python:** py --version ó python --version\n",
    "\n",
    "Puedes validar y/o instalar la versión de jupyter desde visual;para ello solo debemos ingresar a la sección extensions y buscar jupyter, luego validamos que tengamos instalada la versión publicada por microsoft.\n",
    "\n",
    "Dependiendo de lo que te falte iremos instalando cada una de ellas con los siguientes comandos:\n",
    "\n",
    "##### **Comandos de instalación de pip3 para linux:**\n",
    "- **To install pip on Ubuntu, Debian, and Linux Mint:**\n",
    "sudo apt install python3-pip\n",
    "\n",
    "- **To install pip on CentOS 8 (and newer), Fedora, and Red Hat:** sudo dnf install python3\n",
    "\n",
    "- **To install pip on CentOS 6 and 7, and older versions of Red Hat:** sudo yum install epel-release\n",
    "\n",
    "- **To install pip on Arch Linux and Manjaro:** sudo pacman -S python-pip\n",
    "\n",
    "- **To install pip on OpenSUSE:** sudo zypper install python3-pip\n",
    "\n",
    "Una vez instalado el pip3, vamos a proceder a instalar el kernel y demás librerias:\n",
    "\n",
    "##### **Comandos de instalación de python y/o pip3 para Windows:** \n",
    "Ingresa al siguiente link: https://www.python.org/downloads/windows/\n",
    "\n",
    "Descarga la ultima versión y busca el instalador donde lo hallas guardado, luego procede con la instalación, recuerda que en caso de que aún NO tengas instalado python podemos instalar ambos a la vez (tanto el pip como el python)\n",
    "\n",
    "En caso de que ya tengas instalado python no te dejará instalar de nuevo pero podrás visualizar la sección de (modify setup) con 3 campos: Modify, repair y uninstall; nosotros utilizaremos Modify, luego validaremos que tenemos habilitado el check box de pip y procedemos a dar siguiente e install.\n",
    "\n",
    "##### **Comandos de instalación de kernel y demás librerias:**\n",
    "- **Instalar scikit-learn:** pip3 install scikit-learn.\n",
    "\n",
    "- **Instalar kernel for jupyter:** pip3 install ipykernel.\n",
    "\n",
    "- **Instalar pandas:** pip3 install pandas."
   ]
  }
 ],
 "metadata": {
  "kernelspec": {
   "display_name": "Python 3",
   "language": "python",
   "name": "python3"
  },
  "language_info": {
   "codemirror_mode": {
    "name": "ipython",
    "version": 3
   },
   "file_extension": ".py",
   "mimetype": "text/x-python",
   "name": "python",
   "nbconvert_exporter": "python",
   "pygments_lexer": "ipython3",
   "version": "3.10.6"
  },
  "orig_nbformat": 4,
  "vscode": {
   "interpreter": {
    "hash": "51cdd56fd3b0151f35ac451a6c83b3c6fbd86ccc02bd681eb2918d24d3fe3209"
   }
  }
 },
 "nbformat": 4,
 "nbformat_minor": 2
}
